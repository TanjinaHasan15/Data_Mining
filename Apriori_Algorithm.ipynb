{
  "nbformat": 4,
  "nbformat_minor": 0,
  "metadata": {
    "colab": {
      "provenance": [],
      "authorship_tag": "ABX9TyPHU5Kd5bULeH2e5DnH7+yw",
      "include_colab_link": true
    },
    "kernelspec": {
      "name": "python3",
      "display_name": "Python 3"
    },
    "language_info": {
      "name": "python"
    }
  },
  "cells": [
    {
      "cell_type": "markdown",
      "metadata": {
        "id": "view-in-github",
        "colab_type": "text"
      },
      "source": [
        "<a href=\"https://colab.research.google.com/github/TanjinaHasan15/Data_Mining/blob/main/Apriori_Algorithm.ipynb\" target=\"_parent\"><img src=\"https://colab.research.google.com/assets/colab-badge.svg\" alt=\"Open In Colab\"/></a>"
      ]
    },
    {
      "cell_type": "code",
      "execution_count": 1,
      "metadata": {
        "colab": {
          "base_uri": "https://localhost:8080/"
        },
        "id": "GEVNFGh3fSlk",
        "outputId": "df140133-c1b2-4a7c-b6f9-3331ab5c740a"
      },
      "outputs": [
        {
          "output_type": "stream",
          "name": "stdout",
          "text": [
            "Frequent Itemsets:\n",
            "('bread',): 1.00\n",
            "('butter',): 0.60\n",
            "('jam',): 0.40\n",
            "('milk',): 0.60\n",
            "('bread', 'milk'): 0.60\n",
            "('butter', 'milk'): 0.40\n",
            "('bread', 'butter'): 0.60\n",
            "('bread', 'jam'): 0.40\n",
            "('bread', 'butter', 'milk'): 0.40\n",
            "\n",
            "Association Rules:\n",
            "('bread',) -> ('milk',) (Support: 0.6, Confidence: 0.6)\n",
            "('milk',) -> ('bread',) (Support: 0.6, Confidence: 1.0)\n",
            "('butter',) -> ('milk',) (Support: 0.4, Confidence: 0.67)\n",
            "('milk',) -> ('butter',) (Support: 0.4, Confidence: 0.67)\n",
            "('bread',) -> ('butter',) (Support: 0.6, Confidence: 0.6)\n",
            "('butter',) -> ('bread',) (Support: 0.6, Confidence: 1.0)\n",
            "('jam',) -> ('bread',) (Support: 0.4, Confidence: 1.0)\n",
            "('butter',) -> ('bread', 'milk') (Support: 0.4, Confidence: 0.67)\n",
            "('milk',) -> ('bread', 'butter') (Support: 0.4, Confidence: 0.67)\n",
            "('bread', 'butter') -> ('milk',) (Support: 0.4, Confidence: 0.67)\n",
            "('bread', 'milk') -> ('butter',) (Support: 0.4, Confidence: 0.67)\n",
            "('butter', 'milk') -> ('bread',) (Support: 0.4, Confidence: 1.0)\n"
          ]
        }
      ],
      "source": [
        "# Implementation of Apriori Algorithm in Raw Python\n",
        "\n",
        "from itertools import combinations\n",
        "\n",
        "\n",
        "transactions = [\n",
        "    ['milk', 'bread', 'butter'],\n",
        "    ['bread', 'butter'],\n",
        "    ['milk', 'bread'],\n",
        "    ['milk', 'bread', 'butter', 'jam'],\n",
        "    ['bread', 'jam']\n",
        "]\n",
        "\n",
        "min_support = 0.4\n",
        "min_confidence = 0.6\n",
        "\n",
        "# Function to calculate support\n",
        "def get_support(itemset, transactions):\n",
        "    count = sum(1 for t in transactions if set(itemset).issubset(set(t)))\n",
        "    return count / len(transactions)\n",
        "\n",
        "# Generate candidate itemsets\n",
        "def generate_candidates(prev_frequent, k):\n",
        "    candidates = set()\n",
        "    for i in range(len(prev_frequent)):\n",
        "        for j in range(i + 1, len(prev_frequent)):\n",
        "            union = tuple(sorted(set(prev_frequent[i]).union(set(prev_frequent[j]))))\n",
        "            if len(union) == k:\n",
        "                candidates.add(union)\n",
        "    return list(candidates)\n",
        "\n",
        "# Apriori algorithm\n",
        "def apriori(transactions, min_support):\n",
        "    single_items = sorted({item for t in transactions for item in t})\n",
        "    current_itemsets = [(item,) for item in single_items]\n",
        "    frequent_itemsets = []\n",
        "\n",
        "    while current_itemsets:\n",
        "        next_frequent = []\n",
        "        for itemset in current_itemsets:\n",
        "            support = get_support(itemset, transactions)\n",
        "            if support >= min_support:\n",
        "                frequent_itemsets.append((itemset, support))\n",
        "                next_frequent.append(itemset)\n",
        "        current_itemsets = generate_candidates(next_frequent, len(next_frequent[0]) + 1) if next_frequent else []\n",
        "    return frequent_itemsets\n",
        "\n",
        "# Generate association rules\n",
        "def generate_rules(frequent_itemsets, transactions, min_confidence):\n",
        "    rules = []\n",
        "    for itemset, support in frequent_itemsets:\n",
        "        if len(itemset) > 1:\n",
        "            for i in range(1, len(itemset)):\n",
        "                for lhs in combinations(itemset, i):\n",
        "                    rhs = tuple(sorted(set(itemset) - set(lhs)))\n",
        "                    lhs_support = get_support(lhs, transactions)\n",
        "                    conf = support / lhs_support\n",
        "                    if conf >= min_confidence:\n",
        "                        rules.append((lhs, rhs, round(support, 2), round(conf, 2)))\n",
        "    return rules\n",
        "\n",
        "# Run Apriori\n",
        "frequent_itemsets = apriori(transactions, min_support)\n",
        "rules = generate_rules(frequent_itemsets, transactions, min_confidence)\n",
        "\n",
        "# Display results\n",
        "print(\"Frequent Itemsets:\")\n",
        "for itemset, support in frequent_itemsets:\n",
        "    print(f\"{itemset}: {support:.2f}\")\n",
        "\n",
        "print(\"\\nAssociation Rules:\")\n",
        "for lhs, rhs, support, conf in rules:\n",
        "    print(f\"{lhs} -> {rhs} (Support: {support}, Confidence: {conf})\")\n"
      ]
    }
  ]
}